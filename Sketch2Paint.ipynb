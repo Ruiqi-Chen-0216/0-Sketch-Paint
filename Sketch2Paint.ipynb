{
 "cells": [
  {
   "cell_type": "markdown",
   "id": "e7618a51-5f7e-4978-ac53-463e26302372",
   "metadata": {},
   "source": [
    "## Environment Set-up 😀"
   ]
  },
  {
   "cell_type": "markdown",
   "id": "0a9dbe17-fb16-42b1-9d49-95a54bac2fcb",
   "metadata": {},
   "source": [
    "You have to run it with Nvidia GPU, though..."
   ]
  },
  {
   "cell_type": "code",
   "execution_count": null,
   "id": "84a6efa9-db75-431c-b352-ac9d4c24a073",
   "metadata": {},
   "outputs": [],
   "source": [
    "# !pip install diffusers==0.14.0 transformers"
   ]
  },
  {
   "cell_type": "code",
   "execution_count": 12,
   "id": "d1ee468a-e043-4554-b189-3da2090fc486",
   "metadata": {},
   "outputs": [],
   "source": [
    "# !pip install opencv-contrib-python\n",
    "# !pip install controlnet_aux"
   ]
  },
  {
   "cell_type": "code",
   "execution_count": 22,
   "id": "e9c2a288-9719-41a4-b917-e104f0685a41",
   "metadata": {},
   "outputs": [],
   "source": [
    "# !pip install accelerate"
   ]
  },
  {
   "cell_type": "markdown",
   "id": "2dbf1ef7-023c-4aad-b844-d31503ca5a26",
   "metadata": {},
   "source": [
    "## ControlNet Pipeline 🚀"
   ]
  },
  {
   "cell_type": "code",
   "execution_count": null,
   "id": "0e203dee-4cd6-478f-8979-711c4b9fb1b9",
   "metadata": {},
   "outputs": [],
   "source": [
    "import cv2\n",
    "from PIL import Image\n",
    "from diffusers import StableDiffusionControlNetPipeline, ControlNetModel, UniPCMultistepScheduler\n",
    "import torch\n",
    "import numpy as np\n",
    "from diffusers.utils import load_image"
   ]
  },
  {
   "cell_type": "code",
   "execution_count": 39,
   "id": "0154852b-5217-4f9d-923c-e30ade53bd6e",
   "metadata": {},
   "outputs": [],
   "source": [
    "import cv2\n",
    "import numpy as np\n",
    "\n",
    "# Reshape the Image to fit ControlNet model input (512*512)\n",
    "def re_image(image=None):\n",
    "    # Check the image\n",
    "    if image is None:\n",
    "        print(\"Error: No image.\")\n",
    "        return\n",
    "\n",
    "    # Convert the image to a numpy array if it isn't already\n",
    "    if not isinstance(image, np.ndarray):\n",
    "        img = np.array(image)\n",
    "    else:\n",
    "        img = image\n",
    "\n",
    "    # Preparing Canvas\n",
    "    height, width, _ = img.shape\n",
    "    longer_side = max(height, width)\n",
    "    square_canvas = 255 * np.ones((longer_side, longer_side, 3), dtype=np.uint8)\n",
    "\n",
    "    y_offset = (longer_side - height) // 2\n",
    "    x_offset = (longer_side - width) // 2\n",
    "\n",
    "    square_canvas[y_offset:y_offset + height, x_offset:x_offset + width] = img\n",
    "\n",
    "    # Resize the image to 512x512 pixels\n",
    "    resized_img = cv2.resize(square_canvas, (512, 512), interpolation=cv2.INTER_AREA)\n",
    "\n",
    "    return resized_img\n"
   ]
  },
  {
   "cell_type": "code",
   "execution_count": 31,
   "id": "1d748406-d303-4273-8e8c-5580ceac0534",
   "metadata": {},
   "outputs": [],
   "source": [
    "def Sketch2Paint():\n",
    "\n",
    "    \n",
    "    controlnet = ControlNetModel.from_pretrained(\n",
    "        \"lllyasviel/sd-controlnet-canny\", torch_dtype=torch.float16\n",
    "    )\n",
    "\n",
    "    pipe = StableDiffusionControlNetPipeline.from_pretrained(\n",
    "        \"Linaqruf/anything-v3.0\", controlnet=controlnet, safety_checker=None, torch_dtype=torch.float16\n",
    "    )\n",
    "\n",
    "    pipe.scheduler = UniPCMultistepScheduler.from_config(pipe.scheduler.config)\n",
    "\n",
    "    # Remove if you do not have xformers installed\n",
    "    # see https://huggingface.co/docs/diffusers/v0.13.0/en/optimization/xformers#installing-xformers\n",
    "    # for installation instructions\n",
    "    # pipe.enable_xformers_memory_efficient_attention()\n",
    "\n",
    "    pipe.enable_model_cpu_offload()\n"
   ]
  },
  {
   "cell_type": "code",
   "execution_count": 54,
   "id": "d6698c64-989e-438c-9ee6-1b1165b87b7f",
   "metadata": {},
   "outputs": [],
   "source": [
    "def generate(img,text,num=20):\n",
    "    image_re = re_image(image=img)\n",
    "    image_re0 =Image.fromarray(image_re)\n",
    "\n",
    "    image = np.array(image_re0)\n",
    "    low_threshold = 150\n",
    "    high_threshold = 200\n",
    "\n",
    "    image = cv2.Canny(image, low_threshold, high_threshold)\n",
    "    image = image[:, :, None]\n",
    "    image = np.concatenate([image, image, image], axis=2)\n",
    "    image = Image.fromarray(image)\n",
    "    print(\"starting sketch-to-paint process...\")\n",
    "    image1 = pipe(text, image, num_inference_steps=int(num)).images[0]\n",
    "    \n",
    "    return image1"
   ]
  },
  {
   "cell_type": "markdown",
   "id": "5b8e83c6-e7ef-4457-b392-e1ca02a81483",
   "metadata": {},
   "source": [
    "## Use it With GUI! 😺"
   ]
  },
  {
   "cell_type": "code",
   "execution_count": 59,
   "id": "5a5b89de-e897-45cc-ac62-5a94085e7b81",
   "metadata": {},
   "outputs": [
    {
     "data": {
      "application/vnd.jupyter.widget-view+json": {
       "model_id": "0a5917f10ffd45cdb6a9ec40a8c1eab3",
       "version_major": 2,
       "version_minor": 0
      },
      "text/plain": [
       "HTML(value='<h2>Sketch-to-Paint Generator By GNK48-Catears 😺</h2>')"
      ]
     },
     "metadata": {},
     "output_type": "display_data"
    },
    {
     "data": {
      "application/vnd.jupyter.widget-view+json": {
       "model_id": "e02092a548f04cce96cf3d4da1357009",
       "version_major": 2,
       "version_minor": 0
      },
      "text/plain": [
       "FileUpload(value={}, accept='image/*', description='Upload')"
      ]
     },
     "metadata": {},
     "output_type": "display_data"
    },
    {
     "data": {
      "application/vnd.jupyter.widget-view+json": {
       "model_id": "6d7423bbf26d4fa3b5adc18b3bea4da0",
       "version_major": 2,
       "version_minor": 0
      },
      "text/plain": [
       "Text(value='best quality, masterpiece, 1girl on the battle field, morden warfare, fallen angels', description=…"
      ]
     },
     "metadata": {},
     "output_type": "display_data"
    },
    {
     "data": {
      "application/vnd.jupyter.widget-view+json": {
       "model_id": "d731e46ea75c468ba0c95cbfcfd2df48",
       "version_major": 2,
       "version_minor": 0
      },
      "text/plain": [
       "Text(value='20', description='Step:', layout=Layout(width='500px'), placeholder='Input Number of Inference Ste…"
      ]
     },
     "metadata": {},
     "output_type": "display_data"
    },
    {
     "data": {
      "application/vnd.jupyter.widget-view+json": {
       "model_id": "176697af01de4f44beab66fd9aebbbc4",
       "version_major": 2,
       "version_minor": 0
      },
      "text/plain": [
       "Button(description='Generate', style=ButtonStyle())"
      ]
     },
     "metadata": {},
     "output_type": "display_data"
    },
    {
     "data": {
      "application/vnd.jupyter.widget-view+json": {
       "model_id": "700c068e882a43d0a25d681686af6fc4",
       "version_major": 2,
       "version_minor": 0
      },
      "text/plain": [
       "Output()"
      ]
     },
     "metadata": {},
     "output_type": "display_data"
    }
   ],
   "source": [
    "import ipywidgets as widgets\n",
    "import PIL.Image\n",
    "import io\n",
    "\n",
    "# global variable to store the uploaded image\n",
    "pub_image = None\n",
    "pub_num = 20\n",
    "import ipywidgets as widgets\n",
    "\n",
    "# create a HTML widget\n",
    "title = widgets.HTML(\n",
    "    value=\"<h2>Sketch-to-Paint Generator By GNK48-Catears 😺</h2>\",\n",
    ")\n",
    "display(title)\n",
    "\n",
    "\n",
    "# FileUpload widget\n",
    "upload = widgets.FileUpload(\n",
    "    accept='image/*',  # Accept only images\n",
    "    multiple=False  # Single file\n",
    ")\n",
    "display(upload)\n",
    "\n",
    "# text input field\n",
    "pubtext = widgets.Text(\n",
    "    value='best quality, masterpiece, 1girl on the battle field, morden warfare, fallen angels',\n",
    "    placeholder='Input Your Colorization Text Prompt',\n",
    "    description='Text Prompt:',\n",
    "    disabled=False,\n",
    "    layout=widgets.Layout(width='500px')\n",
    ")\n",
    "display(pubtext)\n",
    "\n",
    "pubnum = widgets.Text(\n",
    "    value='20',\n",
    "    placeholder='Input Number of Inference Step (20 is good)',\n",
    "    description='Step:',\n",
    "    disabled=False,\n",
    "    layout=widgets.Layout(width='500px')\n",
    ")\n",
    "display(pubnum)\n",
    "\n",
    "# Generate button\n",
    "button = widgets.Button(description=\"Generate\")\n",
    "display(button)\n",
    "\n",
    "# create an output widget to display the image\n",
    "output = widgets.Output()\n",
    "display(output)\n",
    "\n",
    "# define button click event\n",
    "def on_button_clicked(b):\n",
    "    global pub_image \n",
    "    global pub_num\n",
    "   \n",
    "    output.clear_output()\n",
    "\n",
    "    text0 = pubtext.value\n",
    "\n",
    "    # check if an image was uploaded\n",
    "    if pub_image is None:\n",
    "        with output:\n",
    "            print(\"No image uploaded!\")\n",
    "        return\n",
    "    \n",
    "    with output:\n",
    "        print(\"Running Sketch-to-Paint Process...\")\n",
    "    # Run ControlNet-Canny\n",
    "    image1 = generate(img = pub_image, text=text0, num=pub_num)\n",
    "    output.clear_output()\n",
    "    \n",
    "    # display the image\n",
    "    with output:\n",
    "        # display(image1)\n",
    "        print(\"Image Generated!\")\n",
    "        print(text0)\n",
    "        display(image1)\n",
    "\n",
    "# function to be triggered on file upload\n",
    "def on_file_upload(change):\n",
    "    global pub_image  # access the global variable\n",
    "    \n",
    "    # clear the output widget content\n",
    "    output.clear_output()\n",
    "\n",
    "    \n",
    "    # get the uploaded file\n",
    "    uploaded_file = upload.value[list(upload.value.keys())[0]]\n",
    "    image_data = uploaded_file['content']\n",
    "\n",
    "    # convert to image\n",
    "    image = PIL.Image.open(io.BytesIO(image_data))\n",
    "    pub_image = image  # store the image in the global variable\n",
    "    \n",
    "    with output:\n",
    "        display(image)\n",
    "\n",
    "# add the callback to the 'value' attribute\n",
    "button.on_click(on_button_clicked)\n",
    "\n",
    "upload.observe(on_file_upload, 'value')\n"
   ]
  },
  {
   "cell_type": "code",
   "execution_count": null,
   "id": "2b9d7559-ca22-4b71-b344-23ca035976d5",
   "metadata": {},
   "outputs": [],
   "source": []
  }
 ],
 "metadata": {
  "kernelspec": {
   "display_name": "Python 3 (ipykernel)",
   "language": "python",
   "name": "python3"
  },
  "language_info": {
   "codemirror_mode": {
    "name": "ipython",
    "version": 3
   },
   "file_extension": ".py",
   "mimetype": "text/x-python",
   "name": "python",
   "nbconvert_exporter": "python",
   "pygments_lexer": "ipython3",
   "version": "3.9.7"
  }
 },
 "nbformat": 4,
 "nbformat_minor": 5
}
